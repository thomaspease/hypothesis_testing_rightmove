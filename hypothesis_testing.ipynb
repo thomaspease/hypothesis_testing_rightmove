{
 "cells": [
  {
   "cell_type": "markdown",
   "metadata": {},
   "source": [
    "This notebook uses Pandas and SciPy to explore and perform hypothesis testing on commercial property data scraped from Rightmove.co.uk. The hypothesis which will be tested is that properties east of Greenwich (aka the Prime Meridian) are cheaper on average in terms of price/sq. ft (£/ft2). than properties west of Greenwich.\n",
    "\n",
    "To begin with, we import the data into a Pandas dataframe, create a column for the £/ft2, and then have a quick look at the initial data."
   ]
  },
  {
   "cell_type": "code",
   "execution_count": 4,
   "metadata": {},
   "outputs": [
    {
     "data": {
      "text/html": [
       "<div>\n",
       "<style scoped>\n",
       "    .dataframe tbody tr th:only-of-type {\n",
       "        vertical-align: middle;\n",
       "    }\n",
       "\n",
       "    .dataframe tbody tr th {\n",
       "        vertical-align: top;\n",
       "    }\n",
       "\n",
       "    .dataframe thead th {\n",
       "        text-align: right;\n",
       "    }\n",
       "</style>\n",
       "<table border=\"1\" class=\"dataframe\">\n",
       "  <thead>\n",
       "    <tr style=\"text-align: right;\">\n",
       "      <th></th>\n",
       "      <th>prop_id</th>\n",
       "      <th>price</th>\n",
       "      <th>sq_ft</th>\n",
       "      <th>price_per_sq_ft</th>\n",
       "    </tr>\n",
       "  </thead>\n",
       "  <tbody>\n",
       "    <tr>\n",
       "      <th>count</th>\n",
       "      <td>2.500000e+03</td>\n",
       "      <td>2.338000e+03</td>\n",
       "      <td>1503.000000</td>\n",
       "      <td>1456.000000</td>\n",
       "    </tr>\n",
       "    <tr>\n",
       "      <th>mean</th>\n",
       "      <td>1.151788e+08</td>\n",
       "      <td>3.575281e+05</td>\n",
       "      <td>4339.467066</td>\n",
       "      <td>218.096567</td>\n",
       "    </tr>\n",
       "    <tr>\n",
       "      <th>std</th>\n",
       "      <td>1.828440e+07</td>\n",
       "      <td>2.971682e+05</td>\n",
       "      <td>11936.246311</td>\n",
       "      <td>1269.945014</td>\n",
       "    </tr>\n",
       "    <tr>\n",
       "      <th>min</th>\n",
       "      <td>4.728223e+07</td>\n",
       "      <td>1.200000e+05</td>\n",
       "      <td>7.000000</td>\n",
       "      <td>1.935479</td>\n",
       "    </tr>\n",
       "    <tr>\n",
       "      <th>25%</th>\n",
       "      <td>1.137929e+08</td>\n",
       "      <td>1.850000e+05</td>\n",
       "      <td>1464.000000</td>\n",
       "      <td>97.037794</td>\n",
       "    </tr>\n",
       "    <tr>\n",
       "      <th>50%</th>\n",
       "      <td>1.246948e+08</td>\n",
       "      <td>1.950000e+05</td>\n",
       "      <td>1958.000000</td>\n",
       "      <td>122.554349</td>\n",
       "    </tr>\n",
       "    <tr>\n",
       "      <th>75%</th>\n",
       "      <td>1.265663e+08</td>\n",
       "      <td>4.000000e+05</td>\n",
       "      <td>3365.000000</td>\n",
       "      <td>193.514644</td>\n",
       "    </tr>\n",
       "    <tr>\n",
       "      <th>max</th>\n",
       "      <td>1.278091e+08</td>\n",
       "      <td>1.500000e+06</td>\n",
       "      <td>304920.000000</td>\n",
       "      <td>42500.000000</td>\n",
       "    </tr>\n",
       "  </tbody>\n",
       "</table>\n",
       "</div>"
      ],
      "text/plain": [
       "            prop_id         price          sq_ft  price_per_sq_ft\n",
       "count  2.500000e+03  2.338000e+03    1503.000000      1456.000000\n",
       "mean   1.151788e+08  3.575281e+05    4339.467066       218.096567\n",
       "std    1.828440e+07  2.971682e+05   11936.246311      1269.945014\n",
       "min    4.728223e+07  1.200000e+05       7.000000         1.935479\n",
       "25%    1.137929e+08  1.850000e+05    1464.000000        97.037794\n",
       "50%    1.246948e+08  1.950000e+05    1958.000000       122.554349\n",
       "75%    1.265663e+08  4.000000e+05    3365.000000       193.514644\n",
       "max    1.278091e+08  1.500000e+06  304920.000000     42500.000000"
      ]
     },
     "execution_count": 4,
     "metadata": {},
     "output_type": "execute_result"
    },
    {
     "data": {
      "image/png": "[encoded data removed]",
      "text/plain": [
       "<Figure size 640x480 with 1 Axes>"
      ]
     },
     "metadata": {},
     "output_type": "display_data"
    }
   ],
   "source": [
    "import pandas as pd\n",
    "import matplotlib as plt\n",
    "import scipy.stats as stats\n",
    "import math\n",
    "\n",
    "df = pd.read_json('scraped_commercial.json')\n",
    "\n",
    "#Create new price/sq_ft column\n",
    "price_per_sq_ft = df.price / df.sq_ft\n",
    "df['price_per_sq_ft'] = price_per_sq_ft\n",
    "\n",
    "df.price_per_sq_ft.hist()\n",
    "df.describe()\n"
   ]
  },
  {
   "cell_type": "markdown",
   "metadata": {},
   "source": [
    "From the .describe() table we can see that from a total of 2500 properties, we have 1456 which have a p£/ft2 and which will therefore be used for the hypothesis testing. We can also see from the histogram that there must a few outliers. Below, the data is cleaned by dropping the rows missing relevant data, and excluding z scores of >3"
   ]
  },
  {
   "cell_type": "code",
   "execution_count": 5,
   "metadata": {},
   "outputs": [],
   "source": [
    "\n",
    "#Get rid of entries missing £/sq.ft. and location\n",
    "cleaned_df = df.dropna(subset=['price_per_sq_ft', 'location'])\n",
    "\n",
    "# Get rid of z scores of more than 3\n",
    "for attribute in ['price_per_sq_ft', 'price', 'sq_ft']:\n",
    "  cleaned_df = cleaned_df[((stats.zscore(cleaned_df[attribute])).abs() < 3)]"
   ]
  },
  {
   "cell_type": "markdown",
   "metadata": {},
   "source": [
    "Next, we filter the data by creating a mask which returns true for properties with a longitude of > 0(east) and false for properties with a longitude of < 0"
   ]
  },
  {
   "cell_type": "code",
   "execution_count": 6,
   "metadata": {},
   "outputs": [],
   "source": [
    "\n",
    "# Create two dataframes, one for London properties, one for non-London\n",
    "def filter_east(x):\n",
    "  if x[1] > 0:\n",
    "    return True\n",
    "  else:\n",
    "    return False\n",
    "\n",
    "east_mask = cleaned_df.location.apply(filter_east)\n",
    "\n",
    "east = cleaned_df[east_mask]\n",
    "west = cleaned_df[~east_mask]"
   ]
  },
  {
   "cell_type": "markdown",
   "metadata": {},
   "source": [
    "We can now have a look at the East and West £/ft2 data, and see that the data East of Greenwich is approaching a normal distribution, where the west data is more skewed."
   ]
  },
  {
   "cell_type": "code",
   "execution_count": 7,
   "metadata": {},
   "outputs": [
    {
     "data": {
      "text/plain": [
       "<AxesSubplot: title={'center': 'East'}, ylabel='Frequency'>"
      ]
     },
     "execution_count": 7,
     "metadata": {},
     "output_type": "execute_result"
    },
    {
     "data": {
      "image/png": "[encoded data removed]",
      "text/plain": [
       "<Figure size 640x480 with 1 Axes>"
      ]
     },
     "metadata": {},
     "output_type": "display_data"
    }
   ],
   "source": [
    "east.price_per_sq_ft.plot(kind='hist', title='East')"
   ]
  },
  {
   "cell_type": "code",
   "execution_count": 24,
   "metadata": {},
   "outputs": [
    {
     "data": {
      "text/plain": [
       "count    1351.000000\n",
       "mean      166.281061\n",
       "std       138.446543\n",
       "min        11.037040\n",
       "25%        97.037794\n",
       "50%       120.495125\n",
       "75%       193.514644\n",
       "max      1033.994334\n",
       "Name: price_per_sq_ft, dtype: float64"
      ]
     },
     "execution_count": 24,
     "metadata": {},
     "output_type": "execute_result"
    },
    {
     "data": {
      "image/png": "[encoded data removed]",
      "text/plain": [
       "<Figure size 640x480 with 1 Axes>"
      ]
     },
     "metadata": {},
     "output_type": "display_data"
    }
   ],
   "source": [
    "west.price_per_sq_ft.plot(kind='hist', title='West', xlim=(0,500))"
   ]
  },
  {
   "cell_type": "markdown",
   "metadata": {},
   "source": [
    "We now perform a two sample t-test on the two groups."
   ]
  },
  {
   "cell_type": "code",
   "execution_count": 11,
   "metadata": {},
   "outputs": [
    {
     "data": {
      "text/plain": [
       "Ttest_indResult(statistic=1.8832251730559253, pvalue=0.06453387178729937)"
      ]
     },
     "execution_count": 11,
     "metadata": {},
     "output_type": "execute_result"
    }
   ],
   "source": [
    "stats.ttest_ind(a=east.price_per_sq_ft, b=west.price_per_sq_ft, equal_var=False)"
   ]
  },
  {
   "cell_type": "markdown",
   "metadata": {},
   "source": [
    "The p-value of 0.064 tells us that there is a 6.4% chance we would see sample data this far apart if the two groups tested were actually identical, meaning we fail to reject the null hypothesis if using a confidence level of 95%. \n",
    "\n",
    "We can further check this by creating a function to produce a confidence interval for the mean at a confidence level of 95% to see if the two intersect, and indeed they do."
   ]
  },
  {
   "cell_type": "code",
   "execution_count": 26,
   "metadata": {},
   "outputs": [
    {
     "name": "stdout",
     "output_type": "stream",
     "text": [
      "East confidence interval: (165.49650298900104, 221.55927382919526)\n",
      "West confidence interval: (158.8919521249477, 173.6701701356102)\n"
     ]
    }
   ],
   "source": [
    "def confidence_interval(series):\n",
    "  mean = series.mean()\n",
    "  t_critical = stats.t.ppf(q = 0.975, df=series.shape[0]-1)\n",
    "  std = series.std(ddof=1)\n",
    "\n",
    "  margin_of_error = t_critical * std / math.sqrt(series.shape[0])\n",
    "\n",
    "  confidence_interval = (mean - margin_of_error, mean + margin_of_error) \n",
    "  return confidence_interval\n",
    "\n",
    "east_confidence_interval = confidence_interval(east.price_per_sq_ft)\n",
    "west_confidence_interval = confidence_interval(west.price_per_sq_ft)\n",
    "\n",
    "print(f'East confidence interval: {east_confidence_interval}')\n",
    "print(f'West confidence interval: {west_confidence_interval}')\n"
   ]
  }
 ],
 "metadata": {
  "kernelspec": {
   "display_name": "Python 3.10.4 ('data-collection-env')",
   "language": "python",
   "name": "python3"
  },
  "language_info": {
   "codemirror_mode": {
    "name": "ipython",
    "version": 3
   },
   "file_extension": ".py",
   "mimetype": "text/x-python",
   "name": "python",
   "nbconvert_exporter": "python",
   "pygments_lexer": "ipython3",
   "version": "3.10.4"
  },
  "orig_nbformat": 4,
  "vscode": {
   "interpreter": {
    "hash": "0efc4cd25f5b4a67b0e53cbf1a28ccceedd40ea9429280927a0a67d9813d1d0c"
   }
  }
 },
 "nbformat": 4,
 "nbformat_minor": 2
}
